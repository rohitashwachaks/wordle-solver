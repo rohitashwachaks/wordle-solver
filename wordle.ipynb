{
 "cells": [
  {
   "cell_type": "markdown",
   "metadata": {},
   "source": [
    "# Wordle Solver"
   ]
  },
  {
   "cell_type": "markdown",
   "metadata": {},
   "source": [
    "## Prepare Data"
   ]
  },
  {
   "cell_type": "code",
   "execution_count": 1,
   "metadata": {},
   "outputs": [],
   "source": [
    "# with open('words.txt','r') as f:\n",
    "#     dictionary = {t.strip().upper() for t in f.readlines() if len(t.strip()) == 5}\n",
    "# # dictionary\n",
    "\n",
    "# with open('wordle.txt','w') as f:\n",
    "#     [f.writelines(x+\",\") for x in dictionary]"
   ]
  },
  {
   "cell_type": "markdown",
   "metadata": {},
   "source": [
    "# Wordle AI"
   ]
  },
  {
   "cell_type": "code",
   "execution_count": 2,
   "metadata": {},
   "outputs": [],
   "source": [
    "import player\n",
    "from tqdm import tqdm\n",
    "import game\n",
    "import numpy as np\n",
    "from matplotlib import pyplot as plt\n",
    "import pandas as pd\n",
    "\n",
    "game_record = []\n",
    "N_games = 100"
   ]
  },
  {
   "cell_type": "markdown",
   "metadata": {},
   "source": [
    "### Serialised"
   ]
  },
  {
   "cell_type": "code",
   "execution_count": 3,
   "metadata": {},
   "outputs": [
    {
     "name": "stderr",
     "output_type": "stream",
     "text": [
      "100%|██████████| 100/100 [00:34<00:00,  2.87it/s]\n"
     ]
    }
   ],
   "source": [
    "for game_count in tqdm(range(N_games)):\n",
    "    bot = player.Player(verbose= False)\n",
    "    wordle = game.Wordle(verbose= False)\n",
    "    response = []\n",
    "    while type(bot.board_response) != int:\n",
    "        bot.board_response = wordle.play(bot.guess())\n",
    "    if(bot.board_response == -1):\n",
    "        game_record.append(7)\n",
    "    else:\n",
    "        game_record.append(wordle.guess_number + 1)\n",
    "    # wordle.render()"
   ]
  },
  {
   "cell_type": "markdown",
   "metadata": {},
   "source": [
    "### Parallelised"
   ]
  },
  {
   "cell_type": "code",
   "execution_count": 10,
   "metadata": {},
   "outputs": [
    {
     "name": "stdout",
     "output_type": "stream",
     "text": [
      "8\n"
     ]
    }
   ],
   "source": [
    "import os\n",
    "import multiprocess\n",
    "\n",
    "print(os.cpu_count())\n",
    "\n",
    "pool = multiprocess.Pool(os.cpu_count()//2)"
   ]
  },
  {
   "cell_type": "code",
   "execution_count": 11,
   "metadata": {},
   "outputs": [],
   "source": [
    "def simulate(n)->int:\n",
    "    game_rec = []\n",
    "    for i in range(n):\n",
    "        bot = player.Player(verbose= False)\n",
    "        wordle = game.Wordle(verbose= False)\n",
    "        while type(bot.board_response) != int:\n",
    "            bot.board_response = wordle.play(bot.guess())\n",
    "        if(bot.board_response == -1):\n",
    "            game_rec.append(7)\n",
    "        else:\n",
    "            game_rec.append(wordle.guess_number + 1)\n",
    "    return game_rec"
   ]
  },
  {
   "cell_type": "code",
   "execution_count": 12,
   "metadata": {},
   "outputs": [
    {
     "name": "stderr",
     "output_type": "stream",
     "text": [
      "40it [03:06,  4.67s/it]\n"
     ]
    },
    {
     "name": "stderr",
     "output_type": "stream",
     "text": [
      "Process ForkPoolWorker-5:\n",
      "Process ForkPoolWorker-7:\n",
      "Process ForkPoolWorker-6:\n",
      "Process ForkPoolWorker-8:\n",
      "Traceback (most recent call last):\n",
      "Traceback (most recent call last):\n",
      "Traceback (most recent call last):\n",
      "  File \"/Users/rchaks/opt/anaconda3/envs/sta380/lib/python3.9/site-packages/multiprocess/process.py\", line 315, in _bootstrap\n",
      "    self.run()\n",
      "Traceback (most recent call last):\n",
      "  File \"/Users/rchaks/opt/anaconda3/envs/sta380/lib/python3.9/site-packages/multiprocess/process.py\", line 315, in _bootstrap\n",
      "    self.run()\n",
      "  File \"/Users/rchaks/opt/anaconda3/envs/sta380/lib/python3.9/site-packages/multiprocess/process.py\", line 315, in _bootstrap\n",
      "    self.run()\n",
      "  File \"/Users/rchaks/opt/anaconda3/envs/sta380/lib/python3.9/site-packages/multiprocess/process.py\", line 315, in _bootstrap\n",
      "    self.run()\n",
      "  File \"/Users/rchaks/opt/anaconda3/envs/sta380/lib/python3.9/site-packages/multiprocess/process.py\", line 108, in run\n",
      "    self._target(*self._args, **self._kwargs)\n",
      "  File \"/Users/rchaks/opt/anaconda3/envs/sta380/lib/python3.9/site-packages/multiprocess/process.py\", line 108, in run\n",
      "    self._target(*self._args, **self._kwargs)\n",
      "  File \"/Users/rchaks/opt/anaconda3/envs/sta380/lib/python3.9/site-packages/multiprocess/process.py\", line 108, in run\n",
      "    self._target(*self._args, **self._kwargs)\n",
      "  File \"/Users/rchaks/opt/anaconda3/envs/sta380/lib/python3.9/site-packages/multiprocess/pool.py\", line 125, in worker\n",
      "    result = (True, func(*args, **kwds))\n",
      "  File \"/Users/rchaks/opt/anaconda3/envs/sta380/lib/python3.9/site-packages/multiprocess/pool.py\", line 125, in worker\n",
      "    result = (True, func(*args, **kwds))\n",
      "  File \"/Users/rchaks/opt/anaconda3/envs/sta380/lib/python3.9/site-packages/multiprocess/process.py\", line 108, in run\n",
      "    self._target(*self._args, **self._kwargs)\n",
      "  File \"/Users/rchaks/opt/anaconda3/envs/sta380/lib/python3.9/site-packages/multiprocess/pool.py\", line 125, in worker\n",
      "    result = (True, func(*args, **kwds))\n",
      "  File \"/Users/rchaks/opt/anaconda3/envs/sta380/lib/python3.9/site-packages/multiprocess/pool.py\", line 48, in mapstar\n",
      "    return list(map(*args))\n",
      "  File \"/Users/rchaks/opt/anaconda3/envs/sta380/lib/python3.9/site-packages/multiprocess/pool.py\", line 48, in mapstar\n",
      "    return list(map(*args))\n",
      "  File \"/Users/rchaks/opt/anaconda3/envs/sta380/lib/python3.9/site-packages/multiprocess/pool.py\", line 48, in mapstar\n",
      "    return list(map(*args))\n",
      "  File \"/Users/rchaks/opt/anaconda3/envs/sta380/lib/python3.9/site-packages/multiprocess/pool.py\", line 125, in worker\n",
      "    result = (True, func(*args, **kwds))\n",
      "  File \"<ipython-input-6-5150767a72bb>\", line 7, in simulate\n",
      "    bot.board_response = wordle.play(bot.guess())\n",
      "  File \"<ipython-input-6-5150767a72bb>\", line 7, in simulate\n",
      "    bot.board_response = wordle.play(bot.guess())\n",
      "  File \"<ipython-input-6-5150767a72bb>\", line 7, in simulate\n",
      "    bot.board_response = wordle.play(bot.guess())\n",
      "  File \"/Users/rchaks/Code/GitHub/wordle-solver/player.py\", line 49, in board_response\n",
      "    self.vocab = self.vocab[self.vocab.apply(lambda x: (self.guessed_word[index] not in ''.join(x)), axis= 1)]\n",
      "  File \"/Users/rchaks/opt/anaconda3/envs/sta380/lib/python3.9/site-packages/multiprocess/pool.py\", line 48, in mapstar\n",
      "    return list(map(*args))\n",
      "  File \"/Users/rchaks/Code/GitHub/wordle-solver/player.py\", line 52, in board_response\n",
      "    self.vocab = self.vocab[self.vocab.apply(lambda x: ((self.guessed_word[index] in ''.join(x)) and (self.guessed_word[index] != x[index])), axis= 1)]\n",
      "  File \"/Users/rchaks/Code/GitHub/wordle-solver/player.py\", line 49, in board_response\n",
      "    self.vocab = self.vocab[self.vocab.apply(lambda x: (self.guessed_word[index] not in ''.join(x)), axis= 1)]\n",
      "  File \"/Users/rchaks/opt/anaconda3/envs/sta380/lib/python3.9/site-packages/pandas/core/frame.py\", line 8827, in apply\n",
      "    return op.apply().__finalize__(self, method=\"apply\")\n",
      "  File \"<ipython-input-6-5150767a72bb>\", line 7, in simulate\n",
      "    bot.board_response = wordle.play(bot.guess())\n",
      "  File \"/Users/rchaks/opt/anaconda3/envs/sta380/lib/python3.9/site-packages/pandas/core/frame.py\", line 8827, in apply\n",
      "    return op.apply().__finalize__(self, method=\"apply\")\n",
      "  File \"/Users/rchaks/opt/anaconda3/envs/sta380/lib/python3.9/site-packages/pandas/core/apply.py\", line 727, in apply\n",
      "    return self.apply_standard()\n",
      "  File \"/Users/rchaks/opt/anaconda3/envs/sta380/lib/python3.9/site-packages/pandas/core/frame.py\", line 8827, in apply\n",
      "    return op.apply().__finalize__(self, method=\"apply\")\n",
      "  File \"/Users/rchaks/opt/anaconda3/envs/sta380/lib/python3.9/site-packages/pandas/core/apply.py\", line 727, in apply\n",
      "    return self.apply_standard()\n",
      "  File \"/Users/rchaks/Code/GitHub/wordle-solver/player.py\", line 52, in board_response\n",
      "    self.vocab = self.vocab[self.vocab.apply(lambda x: ((self.guessed_word[index] in ''.join(x)) and (self.guessed_word[index] != x[index])), axis= 1)]\n",
      "  File \"/Users/rchaks/opt/anaconda3/envs/sta380/lib/python3.9/site-packages/pandas/core/apply.py\", line 851, in apply_standard\n",
      "    results, res_index = self.apply_series_generator()\n",
      "  File \"/Users/rchaks/opt/anaconda3/envs/sta380/lib/python3.9/site-packages/pandas/core/apply.py\", line 727, in apply\n",
      "    return self.apply_standard()\n",
      "  File \"/Users/rchaks/opt/anaconda3/envs/sta380/lib/python3.9/site-packages/pandas/core/frame.py\", line 8827, in apply\n",
      "    return op.apply().__finalize__(self, method=\"apply\")\n",
      "  File \"/Users/rchaks/opt/anaconda3/envs/sta380/lib/python3.9/site-packages/pandas/core/apply.py\", line 854, in apply_standard\n",
      "    return self.wrap_results(results, res_index)\n",
      "  File \"/Users/rchaks/opt/anaconda3/envs/sta380/lib/python3.9/site-packages/pandas/core/apply.py\", line 867, in apply_series_generator\n",
      "    results[i] = self.f(v)\n",
      "  File \"/Users/rchaks/opt/anaconda3/envs/sta380/lib/python3.9/site-packages/pandas/core/apply.py\", line 851, in apply_standard\n",
      "    results, res_index = self.apply_series_generator()\n",
      "  File \"/Users/rchaks/opt/anaconda3/envs/sta380/lib/python3.9/site-packages/pandas/core/apply.py\", line 889, in wrap_results\n",
      "    result = create_series_with_explicit_dtype(\n",
      "  File \"/Users/rchaks/opt/anaconda3/envs/sta380/lib/python3.9/site-packages/pandas/core/apply.py\", line 727, in apply\n",
      "    return self.apply_standard()\n",
      "  File \"/Users/rchaks/Code/GitHub/wordle-solver/player.py\", line 49, in <lambda>\n",
      "    self.vocab = self.vocab[self.vocab.apply(lambda x: (self.guessed_word[index] not in ''.join(x)), axis= 1)]\n",
      "  File \"/Users/rchaks/opt/anaconda3/envs/sta380/lib/python3.9/site-packages/pandas/core/apply.py\", line 867, in apply_series_generator\n",
      "    results[i] = self.f(v)\n",
      "  File \"/Users/rchaks/opt/anaconda3/envs/sta380/lib/python3.9/site-packages/pandas/core/construction.py\", line 852, in create_series_with_explicit_dtype\n",
      "    from pandas.core.series import Series\n",
      "  File \"/Users/rchaks/opt/anaconda3/envs/sta380/lib/python3.9/site-packages/pandas/core/apply.py\", line 851, in apply_standard\n",
      "    results, res_index = self.apply_series_generator()\n",
      "KeyboardInterrupt\n",
      "  File \"/Users/rchaks/opt/anaconda3/envs/sta380/lib/python3.9/site-packages/pandas/core/series.py\", line 945, in __getitem__\n",
      "    check_deprecated_indexers(key)\n",
      "  File \"/Users/rchaks/Code/GitHub/wordle-solver/player.py\", line 49, in <lambda>\n",
      "    self.vocab = self.vocab[self.vocab.apply(lambda x: (self.guessed_word[index] not in ''.join(x)), axis= 1)]\n",
      "  File \"/Users/rchaks/opt/anaconda3/envs/sta380/lib/python3.9/site-packages/pandas/core/apply.py\", line 867, in apply_series_generator\n",
      "    results[i] = self.f(v)\n",
      "  File \"/Users/rchaks/opt/anaconda3/envs/sta380/lib/python3.9/site-packages/pandas/core/indexing.py\", line 2487, in check_deprecated_indexers\n",
      "    isinstance(key, dict)\n",
      "  File \"/Users/rchaks/Code/GitHub/wordle-solver/player.py\", line 52, in <lambda>\n",
      "    self.vocab = self.vocab[self.vocab.apply(lambda x: ((self.guessed_word[index] in ''.join(x)) and (self.guessed_word[index] != x[index])), axis= 1)]\n",
      "KeyboardInterrupt\n",
      "  File \"/Users/rchaks/opt/anaconda3/envs/sta380/lib/python3.9/site-packages/pandas/core/base.py\", line 761, in __iter__\n",
      "    return map(self._values.item, range(self._values.size))\n",
      "KeyboardInterrupt\n",
      "  File \"/Users/rchaks/opt/anaconda3/envs/sta380/lib/python3.9/site-packages/pandas/core/series.py\", line 688, in _values\n",
      "    @property\n",
      "KeyboardInterrupt\n"
     ]
    },
    {
     "name": "stderr",
     "output_type": "stream",
     "text": [
      "Process ForkPoolWorker-12:\n",
      "Traceback (most recent call last):\n",
      "  File \"/Users/rchaks/opt/anaconda3/envs/sta380/lib/python3.9/site-packages/multiprocess/process.py\", line 315, in _bootstrap\n",
      "    self.run()\n",
      "  File \"/Users/rchaks/opt/anaconda3/envs/sta380/lib/python3.9/site-packages/multiprocess/process.py\", line 108, in run\n",
      "    self._target(*self._args, **self._kwargs)\n",
      "  File \"/Users/rchaks/opt/anaconda3/envs/sta380/lib/python3.9/site-packages/multiprocess/pool.py\", line 125, in worker\n",
      "    result = (True, func(*args, **kwds))\n",
      "  File \"<ipython-input-11-5150767a72bb>\", line 7, in simulate\n",
      "  File \"/Users/rchaks/Code/GitHub/wordle-solver/player.py\", line 49, in board_response\n",
      "    self.vocab = self.vocab[self.vocab.apply(lambda x: (self.guessed_word[index] not in ''.join(x)), axis= 1)]\n",
      "  File \"/Users/rchaks/opt/anaconda3/envs/sta380/lib/python3.9/site-packages/pandas/core/frame.py\", line 8827, in apply\n",
      "    return op.apply().__finalize__(self, method=\"apply\")\n",
      "Process ForkPoolWorker-10:\n",
      "  File \"/Users/rchaks/opt/anaconda3/envs/sta380/lib/python3.9/site-packages/pandas/core/apply.py\", line 727, in apply\n",
      "    return self.apply_standard()\n",
      "  File \"/Users/rchaks/opt/anaconda3/envs/sta380/lib/python3.9/site-packages/pandas/core/apply.py\", line 851, in apply_standard\n",
      "    results, res_index = self.apply_series_generator()\n",
      "  File \"/Users/rchaks/opt/anaconda3/envs/sta380/lib/python3.9/site-packages/pandas/core/apply.py\", line 867, in apply_series_generator\n",
      "    results[i] = self.f(v)\n",
      "  File \"/Users/rchaks/Code/GitHub/wordle-solver/player.py\", line 49, in <lambda>\n",
      "    self.vocab = self.vocab[self.vocab.apply(lambda x: (self.guessed_word[index] not in ''.join(x)), axis= 1)]\n",
      "  File \"/Users/rchaks/opt/anaconda3/envs/sta380/lib/python3.9/site-packages/pandas/core/base.py\", line 761, in __iter__\n",
      "    return map(self._values.item, range(self._values.size))\n",
      "  File \"/Users/rchaks/opt/anaconda3/envs/sta380/lib/python3.9/site-packages/pandas/core/series.py\", line 720, in _values\n",
      "    return self._mgr.internal_values()\n",
      "Process ForkPoolWorker-11:\n",
      "Process ForkPoolWorker-9:\n",
      "KeyboardInterrupt\n",
      "Traceback (most recent call last):\n",
      "  File \"/Users/rchaks/opt/anaconda3/envs/sta380/lib/python3.9/site-packages/multiprocess/process.py\", line 315, in _bootstrap\n",
      "    self.run()\n",
      "Traceback (most recent call last):\n",
      "Traceback (most recent call last):\n",
      "  File \"/Users/rchaks/opt/anaconda3/envs/sta380/lib/python3.9/site-packages/multiprocess/process.py\", line 315, in _bootstrap\n",
      "    self.run()\n",
      "  File \"/Users/rchaks/opt/anaconda3/envs/sta380/lib/python3.9/site-packages/multiprocess/process.py\", line 108, in run\n",
      "    self._target(*self._args, **self._kwargs)\n",
      "  File \"/Users/rchaks/opt/anaconda3/envs/sta380/lib/python3.9/site-packages/multiprocess/process.py\", line 315, in _bootstrap\n",
      "    self.run()\n",
      "  File \"/Users/rchaks/opt/anaconda3/envs/sta380/lib/python3.9/site-packages/multiprocess/pool.py\", line 125, in worker\n",
      "    result = (True, func(*args, **kwds))\n",
      "  File \"/Users/rchaks/opt/anaconda3/envs/sta380/lib/python3.9/site-packages/multiprocess/process.py\", line 108, in run\n",
      "    self._target(*self._args, **self._kwargs)\n",
      "  File \"/Users/rchaks/opt/anaconda3/envs/sta380/lib/python3.9/site-packages/multiprocess/process.py\", line 108, in run\n",
      "    self._target(*self._args, **self._kwargs)\n",
      "  File \"<ipython-input-11-5150767a72bb>\", line 7, in simulate\n",
      "  File \"/Users/rchaks/opt/anaconda3/envs/sta380/lib/python3.9/site-packages/multiprocess/pool.py\", line 125, in worker\n",
      "    result = (True, func(*args, **kwds))\n",
      "  File \"<ipython-input-11-5150767a72bb>\", line 7, in simulate\n",
      "  File \"/Users/rchaks/Code/GitHub/wordle-solver/player.py\", line 52, in board_response\n",
      "    self.vocab = self.vocab[self.vocab.apply(lambda x: ((self.guessed_word[index] in ''.join(x)) and (self.guessed_word[index] != x[index])), axis= 1)]\n",
      "  File \"/Users/rchaks/opt/anaconda3/envs/sta380/lib/python3.9/site-packages/multiprocess/pool.py\", line 125, in worker\n",
      "    result = (True, func(*args, **kwds))\n",
      "  File \"/Users/rchaks/Code/GitHub/wordle-solver/player.py\", line 65, in guess\n",
      "    self.guessed_word = self.vocab.iloc[self.vocab.apply(lambda x: ([information[x.name][i] for i in x])).sum(axis=1).idxmax()]\n",
      "  File \"/Users/rchaks/opt/anaconda3/envs/sta380/lib/python3.9/site-packages/pandas/core/frame.py\", line 8827, in apply\n",
      "    return op.apply().__finalize__(self, method=\"apply\")\n",
      "  File \"/Users/rchaks/opt/anaconda3/envs/sta380/lib/python3.9/site-packages/pandas/core/apply.py\", line 727, in apply\n",
      "    return self.apply_standard()\n",
      "  File \"/Users/rchaks/opt/anaconda3/envs/sta380/lib/python3.9/site-packages/pandas/core/indexing.py\", line 967, in __getitem__\n",
      "    return self._getitem_axis(maybe_callable, axis=axis)\n",
      "  File \"/Users/rchaks/opt/anaconda3/envs/sta380/lib/python3.9/site-packages/pandas/core/indexing.py\", line 1510, in _getitem_axis\n",
      "    elif is_list_like_indexer(key):\n",
      "  File \"/Users/rchaks/opt/anaconda3/envs/sta380/lib/python3.9/site-packages/pandas/core/apply.py\", line 851, in apply_standard\n",
      "    results, res_index = self.apply_series_generator()\n",
      "  File \"/Users/rchaks/opt/anaconda3/envs/sta380/lib/python3.9/site-packages/pandas/core/apply.py\", line 867, in apply_series_generator\n",
      "    results[i] = self.f(v)\n",
      "  File \"/Users/rchaks/opt/anaconda3/envs/sta380/lib/python3.9/site-packages/pandas/core/indexers/utils.py\", line 69, in is_list_like_indexer\n",
      "    def is_list_like_indexer(key) -> bool:\n",
      "  File \"/Users/rchaks/Code/GitHub/wordle-solver/player.py\", line 52, in <lambda>\n",
      "    self.vocab = self.vocab[self.vocab.apply(lambda x: ((self.guessed_word[index] in ''.join(x)) and (self.guessed_word[index] != x[index])), axis= 1)]\n",
      "KeyboardInterrupt\n",
      "KeyboardInterrupt\n",
      "  File \"<ipython-input-11-5150767a72bb>\", line 7, in simulate\n",
      "  File \"/Users/rchaks/Code/GitHub/wordle-solver/player.py\", line 52, in board_response\n",
      "    self.vocab = self.vocab[self.vocab.apply(lambda x: ((self.guessed_word[index] in ''.join(x)) and (self.guessed_word[index] != x[index])), axis= 1)]\n",
      "  File \"/Users/rchaks/opt/anaconda3/envs/sta380/lib/python3.9/site-packages/pandas/core/frame.py\", line 8827, in apply\n",
      "    return op.apply().__finalize__(self, method=\"apply\")\n",
      "  File \"/Users/rchaks/opt/anaconda3/envs/sta380/lib/python3.9/site-packages/pandas/core/apply.py\", line 727, in apply\n",
      "    return self.apply_standard()\n",
      "  File \"/Users/rchaks/opt/anaconda3/envs/sta380/lib/python3.9/site-packages/pandas/core/apply.py\", line 851, in apply_standard\n",
      "    results, res_index = self.apply_series_generator()\n",
      "  File \"/Users/rchaks/opt/anaconda3/envs/sta380/lib/python3.9/site-packages/pandas/core/apply.py\", line 865, in apply_series_generator\n",
      "    for i, v in enumerate(series_gen):\n",
      "  File \"/Users/rchaks/opt/anaconda3/envs/sta380/lib/python3.9/site-packages/pandas/core/apply.py\", line 998, in series_generator\n",
      "    mgr.set_values(arr)\n",
      "  File \"/Users/rchaks/opt/anaconda3/envs/sta380/lib/python3.9/site-packages/pandas/core/internals/managers.py\", line 1892, in set_values\n",
      "    self.blocks[0]._mgr_locs = BlockPlacement(slice(len(values)))\n",
      "KeyboardInterrupt\n"
     ]
    },
    {
     "ename": "KeyboardInterrupt",
     "evalue": "",
     "output_type": "error",
     "traceback": [
      "\u001b[0;31m---------------------------------------------------------------------------\u001b[0m",
      "\u001b[0;31mIndexError\u001b[0m                                Traceback (most recent call last)",
      "\u001b[0;32m~/opt/anaconda3/envs/sta380/lib/python3.9/site-packages/multiprocess/pool.py\u001b[0m in \u001b[0;36mnext\u001b[0;34m(self, timeout)\u001b[0m\n\u001b[1;32m    852\u001b[0m             \u001b[0;32mtry\u001b[0m\u001b[0;34m:\u001b[0m\u001b[0;34m\u001b[0m\u001b[0;34m\u001b[0m\u001b[0m\n\u001b[0;32m--> 853\u001b[0;31m                 \u001b[0mitem\u001b[0m \u001b[0;34m=\u001b[0m \u001b[0mself\u001b[0m\u001b[0;34m.\u001b[0m\u001b[0m_items\u001b[0m\u001b[0;34m.\u001b[0m\u001b[0mpopleft\u001b[0m\u001b[0;34m(\u001b[0m\u001b[0;34m)\u001b[0m\u001b[0;34m\u001b[0m\u001b[0;34m\u001b[0m\u001b[0m\n\u001b[0m\u001b[1;32m    854\u001b[0m             \u001b[0;32mexcept\u001b[0m \u001b[0mIndexError\u001b[0m\u001b[0;34m:\u001b[0m\u001b[0;34m\u001b[0m\u001b[0;34m\u001b[0m\u001b[0m\n",
      "\u001b[0;31mIndexError\u001b[0m: pop from an empty deque",
      "\nDuring handling of the above exception, another exception occurred:\n",
      "\u001b[0;31mKeyboardInterrupt\u001b[0m                         Traceback (most recent call last)",
      "\u001b[0;32m<ipython-input-12-b4b9f37d6614>\u001b[0m in \u001b[0;36m<module>\u001b[0;34m\u001b[0m\n\u001b[0;32m----> 1\u001b[0;31m \u001b[0;32mfor\u001b[0m \u001b[0mguess_num\u001b[0m \u001b[0;32min\u001b[0m \u001b[0mtqdm\u001b[0m\u001b[0;34m(\u001b[0m\u001b[0mpool\u001b[0m\u001b[0;34m.\u001b[0m\u001b[0mimap_unordered\u001b[0m\u001b[0;34m(\u001b[0m\u001b[0msimulate\u001b[0m\u001b[0;34m,\u001b[0m \u001b[0mrange\u001b[0m\u001b[0;34m(\u001b[0m\u001b[0mN_games\u001b[0m\u001b[0;34m)\u001b[0m\u001b[0;34m)\u001b[0m\u001b[0;34m)\u001b[0m\u001b[0;34m:\u001b[0m\u001b[0;34m\u001b[0m\u001b[0;34m\u001b[0m\u001b[0m\n\u001b[0m\u001b[1;32m      2\u001b[0m     \u001b[0mgame_record\u001b[0m\u001b[0;34m.\u001b[0m\u001b[0mextend\u001b[0m\u001b[0;34m(\u001b[0m\u001b[0mguess_num\u001b[0m\u001b[0;34m)\u001b[0m\u001b[0;34m\u001b[0m\u001b[0;34m\u001b[0m\u001b[0m\n\u001b[1;32m      3\u001b[0m \u001b[0mpool\u001b[0m\u001b[0;34m.\u001b[0m\u001b[0mterminate\u001b[0m\u001b[0;34m(\u001b[0m\u001b[0;34m)\u001b[0m\u001b[0;34m\u001b[0m\u001b[0;34m\u001b[0m\u001b[0m\n",
      "\u001b[0;32m~/opt/anaconda3/envs/sta380/lib/python3.9/site-packages/tqdm/std.py\u001b[0m in \u001b[0;36m__iter__\u001b[0;34m(self)\u001b[0m\n\u001b[1;32m   1178\u001b[0m \u001b[0;34m\u001b[0m\u001b[0m\n\u001b[1;32m   1179\u001b[0m         \u001b[0;32mtry\u001b[0m\u001b[0;34m:\u001b[0m\u001b[0;34m\u001b[0m\u001b[0;34m\u001b[0m\u001b[0m\n\u001b[0;32m-> 1180\u001b[0;31m             \u001b[0;32mfor\u001b[0m \u001b[0mobj\u001b[0m \u001b[0;32min\u001b[0m \u001b[0miterable\u001b[0m\u001b[0;34m:\u001b[0m\u001b[0;34m\u001b[0m\u001b[0;34m\u001b[0m\u001b[0m\n\u001b[0m\u001b[1;32m   1181\u001b[0m                 \u001b[0;32myield\u001b[0m \u001b[0mobj\u001b[0m\u001b[0;34m\u001b[0m\u001b[0;34m\u001b[0m\u001b[0m\n\u001b[1;32m   1182\u001b[0m                 \u001b[0;31m# Update and possibly print the progressbar.\u001b[0m\u001b[0;34m\u001b[0m\u001b[0;34m\u001b[0m\u001b[0;34m\u001b[0m\u001b[0m\n",
      "\u001b[0;32m~/opt/anaconda3/envs/sta380/lib/python3.9/site-packages/multiprocess/pool.py\u001b[0m in \u001b[0;36mnext\u001b[0;34m(self, timeout)\u001b[0m\n\u001b[1;32m    856\u001b[0m                     \u001b[0mself\u001b[0m\u001b[0;34m.\u001b[0m\u001b[0m_pool\u001b[0m \u001b[0;34m=\u001b[0m \u001b[0;32mNone\u001b[0m\u001b[0;34m\u001b[0m\u001b[0;34m\u001b[0m\u001b[0m\n\u001b[1;32m    857\u001b[0m                     \u001b[0;32mraise\u001b[0m \u001b[0mStopIteration\u001b[0m \u001b[0;32mfrom\u001b[0m \u001b[0;32mNone\u001b[0m\u001b[0;34m\u001b[0m\u001b[0;34m\u001b[0m\u001b[0m\n\u001b[0;32m--> 858\u001b[0;31m                 \u001b[0mself\u001b[0m\u001b[0;34m.\u001b[0m\u001b[0m_cond\u001b[0m\u001b[0;34m.\u001b[0m\u001b[0mwait\u001b[0m\u001b[0;34m(\u001b[0m\u001b[0mtimeout\u001b[0m\u001b[0;34m)\u001b[0m\u001b[0;34m\u001b[0m\u001b[0;34m\u001b[0m\u001b[0m\n\u001b[0m\u001b[1;32m    859\u001b[0m                 \u001b[0;32mtry\u001b[0m\u001b[0;34m:\u001b[0m\u001b[0;34m\u001b[0m\u001b[0;34m\u001b[0m\u001b[0m\n\u001b[1;32m    860\u001b[0m                     \u001b[0mitem\u001b[0m \u001b[0;34m=\u001b[0m \u001b[0mself\u001b[0m\u001b[0;34m.\u001b[0m\u001b[0m_items\u001b[0m\u001b[0;34m.\u001b[0m\u001b[0mpopleft\u001b[0m\u001b[0;34m(\u001b[0m\u001b[0;34m)\u001b[0m\u001b[0;34m\u001b[0m\u001b[0;34m\u001b[0m\u001b[0m\n",
      "\u001b[0;32m~/opt/anaconda3/envs/sta380/lib/python3.9/threading.py\u001b[0m in \u001b[0;36mwait\u001b[0;34m(self, timeout)\u001b[0m\n\u001b[1;32m    310\u001b[0m         \u001b[0;32mtry\u001b[0m\u001b[0;34m:\u001b[0m    \u001b[0;31m# restore state no matter what (e.g., KeyboardInterrupt)\u001b[0m\u001b[0;34m\u001b[0m\u001b[0;34m\u001b[0m\u001b[0m\n\u001b[1;32m    311\u001b[0m             \u001b[0;32mif\u001b[0m \u001b[0mtimeout\u001b[0m \u001b[0;32mis\u001b[0m \u001b[0;32mNone\u001b[0m\u001b[0;34m:\u001b[0m\u001b[0;34m\u001b[0m\u001b[0;34m\u001b[0m\u001b[0m\n\u001b[0;32m--> 312\u001b[0;31m                 \u001b[0mwaiter\u001b[0m\u001b[0;34m.\u001b[0m\u001b[0macquire\u001b[0m\u001b[0;34m(\u001b[0m\u001b[0;34m)\u001b[0m\u001b[0;34m\u001b[0m\u001b[0;34m\u001b[0m\u001b[0m\n\u001b[0m\u001b[1;32m    313\u001b[0m                 \u001b[0mgotit\u001b[0m \u001b[0;34m=\u001b[0m \u001b[0;32mTrue\u001b[0m\u001b[0;34m\u001b[0m\u001b[0;34m\u001b[0m\u001b[0m\n\u001b[1;32m    314\u001b[0m             \u001b[0;32melse\u001b[0m\u001b[0;34m:\u001b[0m\u001b[0;34m\u001b[0m\u001b[0;34m\u001b[0m\u001b[0m\n",
      "\u001b[0;31mKeyboardInterrupt\u001b[0m: "
     ]
    }
   ],
   "source": [
    "for guess_num in tqdm(pool.imap_unordered(simulate, range(N_games))):\n",
    "    game_record.extend(guess_num)\n",
    "pool.terminate()"
   ]
  },
  {
   "cell_type": "markdown",
   "metadata": {},
   "source": [
    "# Results"
   ]
  },
  {
   "cell_type": "code",
   "execution_count": 9,
   "metadata": {},
   "outputs": [
    {
     "data": {
      "image/png": "[encoded data removed]",
      "text/plain": [
       "<Figure size 640x480 with 1 Axes>"
      ]
     },
     "metadata": {},
     "output_type": "display_data"
    }
   ],
   "source": [
    "history = pd.Series(game_record).apply(lambda x: ('Fail' if x == 7 else x)).astype('str')\n",
    "history = history.value_counts().sort_index()\n",
    "pd.Series(history).plot(kind = \"bar\")\n",
    "histoy = history/history.sum()\n",
    "history.plot(kind = 'line')\n",
    "plt.xlabel(\"Number of Tries\")\n",
    "plt.ylabel('Frequency')\n",
    "plt.title('Bot v/s Wordle')\n",
    "plt.show()"
   ]
  },
  {
   "cell_type": "markdown",
   "metadata": {},
   "source": [
    "***"
   ]
  }
 ],
 "metadata": {
  "interpreter": {
   "hash": "b0fa6594d8f4cbf19f97940f81e996739fb7646882a419484c72d19e05852a7e"
  },
  "kernelspec": {
   "display_name": "Python 3.9.7 64-bit",
   "language": "python",
   "name": "python3"
  },
  "language_info": {
   "codemirror_mode": {
    "name": "ipython",
    "version": 3
   },
   "file_extension": ".py",
   "mimetype": "text/x-python",
   "name": "python",
   "nbconvert_exporter": "python",
   "pygments_lexer": "ipython3",
   "version": "3.9.6"
  },
  "orig_nbformat": 4
 },
 "nbformat": 4,
 "nbformat_minor": 2
}
