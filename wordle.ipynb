{
 "cells": [
  {
   "cell_type": "markdown",
   "metadata": {},
   "source": [
    "# Wordle Solver"
   ]
  },
  {
   "cell_type": "markdown",
   "metadata": {},
   "source": [
    "## Prepare Data"
   ]
  },
  {
   "cell_type": "code",
   "execution_count": null,
   "metadata": {},
   "outputs": [],
   "source": [
    "with open('words.txt','r') as f:\n",
    "    dictionary = {t.strip().upper() for t in f.readlines() if len(t.strip()) == 5}\n",
    "# dictionary\n",
    "\n",
    "with open('wordle.txt','w') as f:\n",
    "    [f.writelines(x+\",\") for x in dictionary]"
   ]
  },
  {
   "cell_type": "code",
   "execution_count": null,
   "metadata": {},
   "outputs": [],
   "source": [
    "import pandas as pd\n",
    "import numpy as np\n",
    "from typing import Union\n",
    "\n",
    "from termcolor import colored\n",
    "\n",
    "word = [list(x) for x in dictionary]\n",
    "word = pd.DataFrame(word)\n",
    "word"
   ]
  },
  {
   "cell_type": "markdown",
   "metadata": {},
   "source": [
    "## Modelling Probability"
   ]
  },
  {
   "cell_type": "code",
   "execution_count": null,
   "metadata": {},
   "outputs": [],
   "source": [
    "class Wordle:\n",
    "    def build_vocab(self, word):\n",
    "        pass\n",
    "\n",
    "    def __init__(self):\n",
    "        self.word_length = 5\n",
    "        self.num_tries = 6\n",
    "\n",
    "        self.guess_number = -1\n",
    "        \n",
    "        self.board = [['.'] * self.word_length] * self.num_tries\n",
    "        self.wordle = word.iloc[np.random.randint(low = 0, high = (len(word)))]\n",
    "        return\n",
    "\n",
    "    def alphabet(self,x: Union[str,int])->Union[int,str]:\n",
    "        if type(x) == str:\n",
    "            return ord(x) - ord('A')\n",
    "        elif type(x) == int:\n",
    "            return chr(x+ord('A'))\n",
    "        else:\n",
    "            return None\n",
    "\n",
    "    def guess(self, guess: str)-> Union[list, None]:\n",
    "        guess = guess.upper()\n",
    "        self.guess_number += 1\n",
    "        \n",
    "        if self.guess_number >= self.num_tries:\n",
    "            print(colored(\"GAME OVER\",\"red\"))\n",
    "            return\n",
    "\n",
    "        if guess.upper() not in dictionary:\n",
    "            print(\"Invalid word\")\n",
    "            self.guess_number -= 1\n",
    "            return\n",
    "\n",
    "        print(self.guess_number + 1,\":\", end=\" \")\n",
    "        response = []\n",
    "        board_entry = []\n",
    "        for index, ch in enumerate(guess):\n",
    "            # green\n",
    "            if ch == self.wordle[index]:\n",
    "                board_entry.append(colored(\" \"+ch+\" \",'grey',\"on_green\"))\n",
    "                response.append('G')\n",
    "            \n",
    "            # yellow\n",
    "            elif ch in ''.join(self.wordle):\n",
    "                board_entry.append(colored(\" \"+ch+\" \",'grey','on_yellow'))\n",
    "                response.append('Y')\n",
    "            \n",
    "            # black\n",
    "            else:\n",
    "                board_entry.append(\" \"+ch+\" \")\n",
    "                response.append('B')\n",
    "\n",
    "        self.board[self.guess_number] = board_entry\n",
    "        [print(x,end=\"\") for x in board_entry];\n",
    "        print()\n",
    "        return response\n",
    "    \n",
    "    def render(self):\n",
    "        print('wordle:', ''.join(self.wordle))\n",
    "        print('board:')\n",
    "        for arr in self.board:\n",
    "            for t in arr:\n",
    "                print(t,end=\"\")\n",
    "            print()"
   ]
  },
  {
   "cell_type": "code",
   "execution_count": null,
   "metadata": {},
   "outputs": [],
   "source": [
    "player = Wordle()\n",
    "player.render()"
   ]
  },
  {
   "cell_type": "code",
   "execution_count": null,
   "metadata": {},
   "outputs": [],
   "source": [
    "response = []\n",
    "for guess in ['bread','deity','delta','bring','bored','tired','crane']:\n",
    "    feedback = player.guess(guess)\n",
    "    if feedback:\n",
    "        response.append(feedback)\n",
    "\n",
    "[print(' '.join(line)) for line in response];"
   ]
  },
  {
   "cell_type": "code",
   "execution_count": null,
   "metadata": {},
   "outputs": [],
   "source": [
    "player.render()"
   ]
  },
  {
   "cell_type": "code",
   "execution_count": null,
   "metadata": {},
   "outputs": [],
   "source": [
    "player.guess('deity')"
   ]
  },
  {
   "cell_type": "code",
   "execution_count": null,
   "metadata": {},
   "outputs": [],
   "source": [
    "print(colored('hello', 'red'), colored('world', 'green'))\n",
    "print(colored(\"hello red world\", 'red','on_yellow'))"
   ]
  },
  {
   "cell_type": "code",
   "execution_count": null,
   "metadata": {},
   "outputs": [],
   "source": [
    "a = np.array([[colored('hello', 'red'), colored('world', 'green')], [colored(\"hello red world\", 'grey','on_yellow'), 0]])\n",
    "for index, t in enumerate(a):\n",
    "    print(t[0], t[1])\n",
    "print(a)"
   ]
  },
  {
   "cell_type": "code",
   "execution_count": null,
   "metadata": {},
   "outputs": [],
   "source": [
    "print(colored('A',\"green\"))"
   ]
  },
  {
   "cell_type": "markdown",
   "metadata": {},
   "source": [
    "# Load Game"
   ]
  },
  {
   "cell_type": "code",
   "execution_count": 1,
   "metadata": {},
   "outputs": [],
   "source": [
    "# from game import Wordle\n",
    "import game\n",
    "\n",
    "wordle = game.Wordle()"
   ]
  },
  {
   "cell_type": "code",
   "execution_count": 2,
   "metadata": {},
   "outputs": [
    {
     "name": "stdout",
     "output_type": "stream",
     "text": [
      "1 :  C  R \u001b[43m\u001b[30m A \u001b[0m\u001b[43m\u001b[30m N \u001b[0m\u001b[43m\u001b[30m E \u001b[0m\n"
     ]
    },
    {
     "data": {
      "text/plain": [
       "['B', 'B', 'Y', 'Y', 'Y']"
      ]
     },
     "execution_count": 2,
     "metadata": {},
     "output_type": "execute_result"
    }
   ],
   "source": [
    "wordle.guess('crane')"
   ]
  },
  {
   "cell_type": "code",
   "execution_count": null,
   "metadata": {},
   "outputs": [],
   "source": []
  }
 ],
 "metadata": {
  "interpreter": {
   "hash": "b0fa6594d8f4cbf19f97940f81e996739fb7646882a419484c72d19e05852a7e"
  },
  "kernelspec": {
   "display_name": "Python 3.9.7 64-bit",
   "language": "python",
   "name": "python3"
  },
  "language_info": {
   "codemirror_mode": {
    "name": "ipython",
    "version": 3
   },
   "file_extension": ".py",
   "mimetype": "text/x-python",
   "name": "python",
   "nbconvert_exporter": "python",
   "pygments_lexer": "ipython3",
   "version": "3.9.6"
  },
  "orig_nbformat": 4
 },
 "nbformat": 4,
 "nbformat_minor": 2
}
