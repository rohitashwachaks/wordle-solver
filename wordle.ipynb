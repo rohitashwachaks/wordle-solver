{
 "cells": [
  {
   "cell_type": "markdown",
   "metadata": {},
   "source": [
    "# Wordle Solver"
   ]
  },
  {
   "cell_type": "markdown",
   "metadata": {},
   "source": [
    "## Prepare Data"
   ]
  },
  {
   "cell_type": "code",
   "execution_count": 1,
   "metadata": {},
   "outputs": [],
   "source": [
    "# with open('words.txt','r') as f:\n",
    "#     dictionary = {t.strip().upper() for t in f.readlines() if len(t.strip()) == 5}\n",
    "# # dictionary\n",
    "\n",
    "# with open('wordle.txt','w') as f:\n",
    "#     [f.writelines(x+\",\") for x in dictionary]"
   ]
  },
  {
   "cell_type": "markdown",
   "metadata": {},
   "source": [
    "# Wordle AI"
   ]
  },
  {
   "cell_type": "code",
   "execution_count": 17,
   "metadata": {},
   "outputs": [],
   "source": [
    "import player\n",
    "from tqdm import tqdm\n",
    "import game\n",
    "import numpy as np\n",
    "from matplotlib import pyplot as plt\n",
    "import pandas as pd\n",
    "\n",
    "game_record = []\n",
    "N_games = 1000"
   ]
  },
  {
   "cell_type": "markdown",
   "metadata": {},
   "source": [
    "### Serialised"
   ]
  },
  {
   "cell_type": "code",
   "execution_count": 3,
   "metadata": {},
   "outputs": [
    {
     "name": "stderr",
     "output_type": "stream",
     "text": [
      "100%|██████████| 100/100 [00:34<00:00,  2.87it/s]\n"
     ]
    }
   ],
   "source": [
    "for game_count in tqdm(range(N_games)):\n",
    "    bot = player.Player(verbose= False)\n",
    "    wordle = game.Wordle(verbose= False)\n",
    "    response = []\n",
    "    while type(bot.board_response) != int:\n",
    "        bot.board_response = wordle.play(bot.guess())\n",
    "    if(bot.board_response == -1):\n",
    "        game_record.append(7)\n",
    "    else:\n",
    "        game_record.append(wordle.guess_number + 1)\n",
    "    # wordle.render()"
   ]
  },
  {
   "cell_type": "markdown",
   "metadata": {},
   "source": [
    "### Parallelised"
   ]
  },
  {
   "cell_type": "code",
   "execution_count": 18,
   "metadata": {},
   "outputs": [
    {
     "name": "stdout",
     "output_type": "stream",
     "text": [
      "8\n"
     ]
    }
   ],
   "source": [
    "import os\n",
    "import multiprocess\n",
    "\n",
    "print(os.cpu_count())\n",
    "\n",
    "pool = multiprocess.Pool(os.cpu_count() - 2)"
   ]
  },
  {
   "cell_type": "code",
   "execution_count": 19,
   "metadata": {},
   "outputs": [],
   "source": [
    "def simulate(n)->int:\n",
    "    bot = player.Player(verbose= False)\n",
    "    wordle = game.Wordle(verbose= False)\n",
    "    while type(bot.board_response) != int:\n",
    "        bot.board_response = wordle.play(bot.guess())\n",
    "    if(bot.board_response == -1):\n",
    "        game_rec = 7\n",
    "    else:\n",
    "        game_rec = wordle.guess_number + 1\n",
    "    return game_rec"
   ]
  },
  {
   "cell_type": "code",
   "execution_count": 20,
   "metadata": {},
   "outputs": [
    {
     "name": "stderr",
     "output_type": "stream",
     "text": [
      "1000it [01:02, 16.11it/s]\n"
     ]
    }
   ],
   "source": [
    "for guess_num in tqdm(pool.imap_unordered(simulate, range(N_games), chunksize = 100)):\n",
    "    game_record.append(guess_num)\n",
    "pool.terminate()"
   ]
  },
  {
   "cell_type": "code",
   "execution_count": 21,
   "metadata": {},
   "outputs": [
    {
     "data": {
      "text/plain": [
       "1000"
      ]
     },
     "execution_count": 21,
     "metadata": {},
     "output_type": "execute_result"
    }
   ],
   "source": [
    "len(game_record)"
   ]
  },
  {
   "cell_type": "markdown",
   "metadata": {},
   "source": [
    "# Results"
   ]
  },
  {
   "cell_type": "code",
   "execution_count": 23,
   "metadata": {},
   "outputs": [
    {
     "data": {
      "image/png": "[encoded data removed]",
      "text/plain": [
       "<Figure size 640x480 with 1 Axes>"
      ]
     },
     "metadata": {},
     "output_type": "display_data"
    }
   ],
   "source": [
    "history = pd.Series(game_record).apply(lambda x: ('Fail' if x == 7 else x)).astype('str')\n",
    "history = history.value_counts().sort_index()\n",
    "pd.Series(history).plot(kind = \"bar\")\n",
    "histoy = history/history.sum()\n",
    "history.plot(kind = 'line')\n",
    "plt.xlabel(\"Number of Tries\")\n",
    "plt.ylabel('Frequency')\n",
    "plt.title('Bot v/s Wordle')\n",
    "plt.show()"
   ]
  },
  {
   "cell_type": "markdown",
   "metadata": {},
   "source": [
    "# Bot Performance"
   ]
  },
  {
   "cell_type": "code",
   "execution_count": 24,
   "metadata": {},
   "outputs": [
    {
     "data": {
      "text/plain": [
       "('Expectation', 4.968)"
      ]
     },
     "execution_count": 24,
     "metadata": {},
     "output_type": "execute_result"
    }
   ],
   "source": [
    "'Expectation', round(sum(game_record)/len(game_record), 4)"
   ]
  },
  {
   "cell_type": "markdown",
   "metadata": {},
   "source": [
    "***"
   ]
  }
 ],
 "metadata": {
  "interpreter": {
   "hash": "b0fa6594d8f4cbf19f97940f81e996739fb7646882a419484c72d19e05852a7e"
  },
  "kernelspec": {
   "display_name": "Python 3.9.7 64-bit",
   "language": "python",
   "name": "python3"
  },
  "language_info": {
   "codemirror_mode": {
    "name": "ipython",
    "version": 3
   },
   "file_extension": ".py",
   "mimetype": "text/x-python",
   "name": "python",
   "nbconvert_exporter": "python",
   "pygments_lexer": "ipython3",
   "version": "3.9.6"
  },
  "orig_nbformat": 4
 },
 "nbformat": 4,
 "nbformat_minor": 2
}
