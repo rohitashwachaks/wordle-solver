{
 "cells": [
  {
   "cell_type": "markdown",
   "metadata": {},
   "source": [
    "# Wordle Solver"
   ]
  },
  {
   "cell_type": "markdown",
   "metadata": {},
   "source": [
    "## Prepare Data"
   ]
  },
  {
   "cell_type": "code",
   "execution_count": 2,
   "metadata": {},
   "outputs": [],
   "source": [
    "with open('words.txt','r') as f:\n",
    "    dictionary = f.readlines()\n",
    "\n",
    "\n",
    "# with open('wordle.txt','w') as f:\n",
    "#     [f.writelines(x.strip()+\",\") for x in dictionary if (len(x.strip()) == 5)]"
   ]
  },
  {
   "cell_type": "code",
   "execution_count": 16,
   "metadata": {},
   "outputs": [
    {
     "data": {
      "text/html": [
       "<div>\n",
       "<style scoped>\n",
       "    .dataframe tbody tr th:only-of-type {\n",
       "        vertical-align: middle;\n",
       "    }\n",
       "\n",
       "    .dataframe tbody tr th {\n",
       "        vertical-align: top;\n",
       "    }\n",
       "\n",
       "    .dataframe thead th {\n",
       "        text-align: right;\n",
       "    }\n",
       "</style>\n",
       "<table border=\"1\" class=\"dataframe\">\n",
       "  <thead>\n",
       "    <tr style=\"text-align: right;\">\n",
       "      <th></th>\n",
       "      <th>0</th>\n",
       "      <th>1</th>\n",
       "      <th>2</th>\n",
       "      <th>3</th>\n",
       "      <th>4</th>\n",
       "    </tr>\n",
       "  </thead>\n",
       "  <tbody>\n",
       "    <tr>\n",
       "      <th>0</th>\n",
       "      <td>A</td>\n",
       "      <td>A</td>\n",
       "      <td>H</td>\n",
       "      <td>E</td>\n",
       "      <td>D</td>\n",
       "    </tr>\n",
       "    <tr>\n",
       "      <th>1</th>\n",
       "      <td>A</td>\n",
       "      <td>A</td>\n",
       "      <td>L</td>\n",
       "      <td>I</td>\n",
       "      <td>I</td>\n",
       "    </tr>\n",
       "    <tr>\n",
       "      <th>2</th>\n",
       "      <td>A</td>\n",
       "      <td>A</td>\n",
       "      <td>R</td>\n",
       "      <td>G</td>\n",
       "      <td>H</td>\n",
       "    </tr>\n",
       "    <tr>\n",
       "      <th>3</th>\n",
       "      <td>A</td>\n",
       "      <td>A</td>\n",
       "      <td>R</td>\n",
       "      <td>O</td>\n",
       "      <td>N</td>\n",
       "    </tr>\n",
       "    <tr>\n",
       "      <th>4</th>\n",
       "      <td>A</td>\n",
       "      <td>B</td>\n",
       "      <td>A</td>\n",
       "      <td>C</td>\n",
       "      <td>A</td>\n",
       "    </tr>\n",
       "    <tr>\n",
       "      <th>...</th>\n",
       "      <td>...</td>\n",
       "      <td>...</td>\n",
       "      <td>...</td>\n",
       "      <td>...</td>\n",
       "      <td>...</td>\n",
       "    </tr>\n",
       "    <tr>\n",
       "      <th>15913</th>\n",
       "      <td>Z</td>\n",
       "      <td>O</td>\n",
       "      <td>W</td>\n",
       "      <td>I</td>\n",
       "      <td>E</td>\n",
       "    </tr>\n",
       "    <tr>\n",
       "      <th>15914</th>\n",
       "      <td>Z</td>\n",
       "      <td>U</td>\n",
       "      <td>C</td>\n",
       "      <td>C</td>\n",
       "      <td>O</td>\n",
       "    </tr>\n",
       "    <tr>\n",
       "      <th>15915</th>\n",
       "      <td>Z</td>\n",
       "      <td>U</td>\n",
       "      <td>D</td>\n",
       "      <td>D</td>\n",
       "      <td>A</td>\n",
       "    </tr>\n",
       "    <tr>\n",
       "      <th>15916</th>\n",
       "      <td>Z</td>\n",
       "      <td>U</td>\n",
       "      <td>L</td>\n",
       "      <td>U</td>\n",
       "      <td>S</td>\n",
       "    </tr>\n",
       "    <tr>\n",
       "      <th>15917</th>\n",
       "      <td>Z</td>\n",
       "      <td>U</td>\n",
       "      <td>N</td>\n",
       "      <td>I</td>\n",
       "      <td>S</td>\n",
       "    </tr>\n",
       "  </tbody>\n",
       "</table>\n",
       "<p>15918 rows × 5 columns</p>\n",
       "</div>"
      ],
      "text/plain": [
       "       0  1  2  3  4\n",
       "0      A  A  H  E  D\n",
       "1      A  A  L  I  I\n",
       "2      A  A  R  G  H\n",
       "3      A  A  R  O  N\n",
       "4      A  B  A  C  A\n",
       "...   .. .. .. .. ..\n",
       "15913  Z  O  W  I  E\n",
       "15914  Z  U  C  C  O\n",
       "15915  Z  U  D  D  A\n",
       "15916  Z  U  L  U  S\n",
       "15917  Z  U  N  I  S\n",
       "\n",
       "[15918 rows x 5 columns]"
      ]
     },
     "execution_count": 16,
     "metadata": {},
     "output_type": "execute_result"
    }
   ],
   "source": [
    "import pandas as pd\n",
    "import numpy as np\n",
    "from typing import Union\n",
    "\n",
    "word = [list(x.upper().strip()) for x in dictionary if (len(x.strip()) == 5)]\n",
    "word = pd.DataFrame(word)\n",
    "word"
   ]
  },
  {
   "cell_type": "markdown",
   "metadata": {},
   "source": [
    "## Modelling Probability"
   ]
  },
  {
   "cell_type": "code",
   "execution_count": 29,
   "metadata": {},
   "outputs": [],
   "source": [
    "class Wordle:\n",
    "    def build_vocab(self, word):\n",
    "        pass\n",
    "    def __init__(self):\n",
    "        self.alphaList = np.array([True]*26)\n",
    "        self.board = np.array([['.']*5]*6)\n",
    "        self.wordle = ''.join(word.iloc[np.random.randint(low = 0, high = (len(word)))])\n",
    "\n",
    "        return\n",
    "\n",
    "    def alphabet(self,x: Union[str,int])->Union[int,str]:\n",
    "        if type(x) == str:\n",
    "            return ord(x) - ord('A')\n",
    "        elif type(x) == int:\n",
    "            return chr(x+ord('A'))\n",
    "        else:\n",
    "            return None\n",
    "\n",
    "    def guess(guess: str)-> None:\n",
    "\n",
    "        pass\n",
    "    \n",
    "    def render(self):\n",
    "        print('wordle:', self.wordle)\n",
    "        print('board:')\n",
    "        print(self.board)\n",
    "\n",
    "        print(\"\\nAlphabet List:\")\n",
    "        # [print(index, chr(index + ord('A')), value) for index, value in enumerate(self.alphaList)]\n",
    "        # self.alphaList[1] = False\n",
    "        [print(self.alphabet(index), end=\", \") for index in range(len(self.alphaList)) if self.alphaList[index]]\n",
    "        print(\"\\b\\b\")"
   ]
  },
  {
   "cell_type": "code",
   "execution_count": 32,
   "metadata": {},
   "outputs": [
    {
     "name": "stdout",
     "output_type": "stream",
     "text": [
      "wordle: UNMEW\n",
      "board:\n",
      "[['.' '.' '.' '.' '.']\n",
      " ['.' '.' '.' '.' '.']\n",
      " ['.' '.' '.' '.' '.']\n",
      " ['.' '.' '.' '.' '.']\n",
      " ['.' '.' '.' '.' '.']\n",
      " ['.' '.' '.' '.' '.']]\n",
      "\n",
      "Alphabet List:\n",
      "A, B, C, D, E, F, G, H, I, J, K, L, M, N, O, P, Q, R, S, T, U, V, W, X, Y, Z\n"
     ]
    }
   ],
   "source": [
    "player = Wordle()\n",
    "player.render()"
   ]
  },
  {
   "cell_type": "code",
   "execution_count": null,
   "metadata": {},
   "outputs": [],
   "source": []
  }
 ],
 "metadata": {
  "interpreter": {
   "hash": "b0fa6594d8f4cbf19f97940f81e996739fb7646882a419484c72d19e05852a7e"
  },
  "kernelspec": {
   "display_name": "Python 3.9.7 64-bit",
   "language": "python",
   "name": "python3"
  },
  "language_info": {
   "codemirror_mode": {
    "name": "ipython",
    "version": 3
   },
   "file_extension": ".py",
   "mimetype": "text/x-python",
   "name": "python",
   "nbconvert_exporter": "python",
   "pygments_lexer": "ipython3",
   "version": "3.9.6"
  },
  "orig_nbformat": 4
 },
 "nbformat": 4,
 "nbformat_minor": 2
}
