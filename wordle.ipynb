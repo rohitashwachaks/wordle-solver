{
 "cells": [
  {
   "cell_type": "markdown",
   "metadata": {},
   "source": [
    "# Wordle Solver"
   ]
  },
  {
   "cell_type": "markdown",
   "metadata": {},
   "source": [
    "## Prepare Data"
   ]
  },
  {
   "cell_type": "code",
   "execution_count": null,
   "metadata": {},
   "outputs": [],
   "source": [
    "with open('words.txt','r') as f:\n",
    "    dictionary = {t.strip().upper() for t in f.readlines() if len(t.strip()) == 5}\n",
    "# dictionary\n",
    "\n",
    "with open('wordle.txt','w') as f:\n",
    "    [f.writelines(x+\",\") for x in dictionary]"
   ]
  },
  {
   "cell_type": "code",
   "execution_count": null,
   "metadata": {},
   "outputs": [],
   "source": [
    "import pandas as pd\n",
    "import numpy as np\n",
    "from typing import Union\n",
    "\n",
    "from termcolor import colored\n",
    "\n",
    "word = [list(x) for x in dictionary]\n",
    "word = pd.DataFrame(word)\n",
    "word"
   ]
  },
  {
   "cell_type": "markdown",
   "metadata": {},
   "source": [
    "## Modelling Probability"
   ]
  },
  {
   "cell_type": "code",
   "execution_count": null,
   "metadata": {},
   "outputs": [],
   "source": [
    "class Wordle:\n",
    "    def build_vocab(self, word):\n",
    "        pass\n",
    "\n",
    "    def __init__(self):\n",
    "        self.word_length = 5\n",
    "        self.num_tries = 6\n",
    "\n",
    "        self.guess_number = -1\n",
    "        \n",
    "        self.board = [['.'] * self.word_length] * self.num_tries\n",
    "        self.wordle = word.iloc[np.random.randint(low = 0, high = (len(word)))]\n",
    "        return\n",
    "\n",
    "    def alphabet(self,x: Union[str,int])->Union[int,str]:\n",
    "        if type(x) == str:\n",
    "            return ord(x) - ord('A')\n",
    "        elif type(x) == int:\n",
    "            return chr(x+ord('A'))\n",
    "        else:\n",
    "            return None\n",
    "\n",
    "    def guess(self, guess: str)-> Union[list, None]:\n",
    "        guess = guess.upper()\n",
    "        self.guess_number += 1\n",
    "        \n",
    "        if self.guess_number >= self.num_tries:\n",
    "            print(colored(\"GAME OVER\",\"red\"))\n",
    "            return\n",
    "\n",
    "        if guess.upper() not in dictionary:\n",
    "            print(\"Invalid word\")\n",
    "            self.guess_number -= 1\n",
    "            return\n",
    "\n",
    "        print(self.guess_number + 1,\":\", end=\" \")\n",
    "        response = []\n",
    "        board_entry = []\n",
    "        for index, ch in enumerate(guess):\n",
    "            # green\n",
    "            if ch == self.wordle[index]:\n",
    "                board_entry.append(colored(\" \"+ch+\" \",'grey',\"on_green\"))\n",
    "                response.append('G')\n",
    "            \n",
    "            # yellow\n",
    "            elif ch in ''.join(self.wordle):\n",
    "                board_entry.append(colored(\" \"+ch+\" \",'grey','on_yellow'))\n",
    "                response.append('Y')\n",
    "            \n",
    "            # black\n",
    "            else:\n",
    "                board_entry.append(\" \"+ch+\" \")\n",
    "                response.append('B')\n",
    "\n",
    "        self.board[self.guess_number] = board_entry\n",
    "        [print(x,end=\"\") for x in board_entry];\n",
    "        print()\n",
    "        return response\n",
    "    \n",
    "    def render(self):\n",
    "        print('wordle:', ''.join(self.wordle))\n",
    "        print('board:')\n",
    "        for arr in self.board:\n",
    "            for t in arr:\n",
    "                print(t,end=\"\")\n",
    "            print()"
   ]
  },
  {
   "cell_type": "code",
   "execution_count": null,
   "metadata": {},
   "outputs": [],
   "source": [
    "player = Wordle()\n",
    "player.render()"
   ]
  },
  {
   "cell_type": "code",
   "execution_count": null,
   "metadata": {},
   "outputs": [],
   "source": [
    "response = []\n",
    "for guess in ['bread','deity','delta','bring','bored','tired','crane']:\n",
    "    feedback = player.guess(guess)\n",
    "    if feedback:\n",
    "        response.append(feedback)\n",
    "\n",
    "[print(' '.join(line)) for line in response];"
   ]
  },
  {
   "cell_type": "code",
   "execution_count": null,
   "metadata": {},
   "outputs": [],
   "source": [
    "player.render()"
   ]
  },
  {
   "cell_type": "code",
   "execution_count": null,
   "metadata": {},
   "outputs": [],
   "source": [
    "player.guess('deity')"
   ]
  },
  {
   "cell_type": "code",
   "execution_count": null,
   "metadata": {},
   "outputs": [],
   "source": [
    "print(colored('hello', 'red'), colored('world', 'green'))\n",
    "print(colored(\"hello red world\", 'red','on_yellow'))"
   ]
  },
  {
   "cell_type": "code",
   "execution_count": null,
   "metadata": {},
   "outputs": [],
   "source": [
    "a = np.array([[colored('hello', 'red'), colored('world', 'green')], [colored(\"hello red world\", 'grey','on_yellow'), 0]])\n",
    "for index, t in enumerate(a):\n",
    "    print(t[0], t[1])\n",
    "print(a)"
   ]
  },
  {
   "cell_type": "code",
   "execution_count": null,
   "metadata": {},
   "outputs": [],
   "source": [
    "print(colored('A',\"green\"))"
   ]
  },
  {
   "cell_type": "markdown",
   "metadata": {},
   "source": [
    "# Load Game"
   ]
  },
  {
   "cell_type": "code",
   "execution_count": 1,
   "metadata": {},
   "outputs": [
    {
     "ename": "TypeError",
     "evalue": "'set' object is not subscriptable",
     "output_type": "error",
     "traceback": [
      "\u001b[0;31m---------------------------------------------------------------------------\u001b[0m",
      "\u001b[0;31mTypeError\u001b[0m                                 Traceback (most recent call last)",
      "\u001b[0;32m<ipython-input-1-8bb370df8938>\u001b[0m in \u001b[0;36m<module>\u001b[0;34m\u001b[0m\n\u001b[1;32m      2\u001b[0m \u001b[0;32mimport\u001b[0m \u001b[0mgame\u001b[0m\u001b[0;34m\u001b[0m\u001b[0;34m\u001b[0m\u001b[0m\n\u001b[1;32m      3\u001b[0m \u001b[0;34m\u001b[0m\u001b[0m\n\u001b[0;32m----> 4\u001b[0;31m \u001b[0mwordle\u001b[0m \u001b[0;34m=\u001b[0m \u001b[0mgame\u001b[0m\u001b[0;34m.\u001b[0m\u001b[0mWordle\u001b[0m\u001b[0;34m(\u001b[0m\u001b[0;34m)\u001b[0m\u001b[0;34m\u001b[0m\u001b[0;34m\u001b[0m\u001b[0m\n\u001b[0m",
      "\u001b[0;32m~/Code/GitHub/wordle-solver/game.py\u001b[0m in \u001b[0;36m__init__\u001b[0;34m(self, dictionary_path)\u001b[0m\n\u001b[1;32m     24\u001b[0m         \u001b[0mself\u001b[0m\u001b[0;34m.\u001b[0m\u001b[0mboard\u001b[0m \u001b[0;34m=\u001b[0m \u001b[0;34m[\u001b[0m\u001b[0;34m[\u001b[0m\u001b[0;34m'.'\u001b[0m\u001b[0;34m]\u001b[0m \u001b[0;34m*\u001b[0m \u001b[0mself\u001b[0m\u001b[0;34m.\u001b[0m\u001b[0mword_length\u001b[0m\u001b[0;34m]\u001b[0m \u001b[0;34m*\u001b[0m \u001b[0mself\u001b[0m\u001b[0;34m.\u001b[0m\u001b[0mnum_tries\u001b[0m\u001b[0;34m\u001b[0m\u001b[0;34m\u001b[0m\u001b[0m\n\u001b[1;32m     25\u001b[0m \u001b[0;34m\u001b[0m\u001b[0m\n\u001b[0;32m---> 26\u001b[0;31m         \u001b[0mself\u001b[0m\u001b[0;34m.\u001b[0m\u001b[0m__set_riddle__\u001b[0m\u001b[0;34m(\u001b[0m\u001b[0mdictionary_path\u001b[0m\u001b[0;34m)\u001b[0m\u001b[0;34m\u001b[0m\u001b[0;34m\u001b[0m\u001b[0m\n\u001b[0m\u001b[1;32m     27\u001b[0m         \u001b[0;32mreturn\u001b[0m\u001b[0;34m\u001b[0m\u001b[0;34m\u001b[0m\u001b[0m\n\u001b[1;32m     28\u001b[0m \u001b[0;34m\u001b[0m\u001b[0m\n",
      "\u001b[0;32m~/Code/GitHub/wordle-solver/game.py\u001b[0m in \u001b[0;36m__set_riddle__\u001b[0;34m(self, path_to_vocabulary)\u001b[0m\n\u001b[1;32m     12\u001b[0m             \u001b[0mself\u001b[0m\u001b[0;34m.\u001b[0m\u001b[0mdictionary\u001b[0m \u001b[0;34m=\u001b[0m \u001b[0;34m{\u001b[0m\u001b[0mt\u001b[0m \u001b[0;32mfor\u001b[0m \u001b[0mt\u001b[0m \u001b[0;32min\u001b[0m \u001b[0mf\u001b[0m\u001b[0;34m.\u001b[0m\u001b[0mreadlines\u001b[0m\u001b[0;34m(\u001b[0m\u001b[0;34m)\u001b[0m\u001b[0;34m[\u001b[0m\u001b[0;36m0\u001b[0m\u001b[0;34m]\u001b[0m\u001b[0;34m.\u001b[0m\u001b[0msplit\u001b[0m\u001b[0;34m(\u001b[0m\u001b[0;34m\",\"\u001b[0m\u001b[0;34m)\u001b[0m\u001b[0;34m}\u001b[0m\u001b[0;34m\u001b[0m\u001b[0;34m\u001b[0m\u001b[0m\n\u001b[1;32m     13\u001b[0m         \u001b[0;31m# print(self.dictionary)\u001b[0m\u001b[0;34m\u001b[0m\u001b[0;34m\u001b[0m\u001b[0;34m\u001b[0m\u001b[0m\n\u001b[0;32m---> 14\u001b[0;31m         \u001b[0mself\u001b[0m\u001b[0;34m.\u001b[0m\u001b[0mword\u001b[0m \u001b[0;34m=\u001b[0m \u001b[0mself\u001b[0m\u001b[0;34m.\u001b[0m\u001b[0mdictionary\u001b[0m\u001b[0;34m[\u001b[0m\u001b[0mnp\u001b[0m\u001b[0;34m.\u001b[0m\u001b[0mrandom\u001b[0m\u001b[0;34m.\u001b[0m\u001b[0mrandint\u001b[0m\u001b[0;34m(\u001b[0m\u001b[0mlow\u001b[0m \u001b[0;34m=\u001b[0m \u001b[0;36m0\u001b[0m\u001b[0;34m,\u001b[0m \u001b[0mhigh\u001b[0m \u001b[0;34m=\u001b[0m \u001b[0;34m(\u001b[0m\u001b[0mlen\u001b[0m\u001b[0;34m(\u001b[0m\u001b[0mself\u001b[0m\u001b[0;34m.\u001b[0m\u001b[0mdictionary\u001b[0m\u001b[0;34m)\u001b[0m\u001b[0;34m)\u001b[0m\u001b[0;34m)\u001b[0m\u001b[0;34m]\u001b[0m\u001b[0;34m\u001b[0m\u001b[0;34m\u001b[0m\u001b[0m\n\u001b[0m\u001b[1;32m     15\u001b[0m         \u001b[0;31m# word = [list(x) for x in self.dictionary]\u001b[0m\u001b[0;34m\u001b[0m\u001b[0;34m\u001b[0m\u001b[0;34m\u001b[0m\u001b[0m\n\u001b[1;32m     16\u001b[0m         \u001b[0;31m# self.word = pd.DataFrame(word)\u001b[0m\u001b[0;34m\u001b[0m\u001b[0;34m\u001b[0m\u001b[0;34m\u001b[0m\u001b[0m\n",
      "\u001b[0;31mTypeError\u001b[0m: 'set' object is not subscriptable"
     ]
    }
   ],
   "source": [
    "# from game import Wordle\n",
    "import game\n",
    "\n",
    "wordle = game.Wordle()"
   ]
  },
  {
   "cell_type": "code",
   "execution_count": 8,
   "metadata": {},
   "outputs": [],
   "source": [
    "from typing import Union\n",
    "from termcolor import colored\n",
    "import pandas as pd\n",
    "import numpy as np\n",
    "\n",
    "#%%\n",
    "class Wordle:\n",
    "    @classmethod\n",
    "    def __set_riddle__(self, path_to_vocabulary):\n",
    "\n",
    "        with open(path_to_vocabulary,'r') as f:\n",
    "            self.dictionary = [t for t in f.readlines()[0].split(\",\")]\n",
    "        # print(self.dictionary)\n",
    "        self.word = self.dictionary[np.random.randint(low = 0, high = (len(self.dictionary)))]\n",
    "        # word = [list(x) for x in self.dictionary]\n",
    "        # self.word = pd.DataFrame(word)\n",
    "        return\n",
    "\n",
    "    def __init__(self, dictionary_path = \"wordle.txt\"):\n",
    "        self.word_length = 5\n",
    "        self.num_tries = 6\n",
    "\n",
    "        self.guess_number = -1\n",
    "        self.board = [['.'] * self.word_length] * self.num_tries\n",
    "\n",
    "        self.__set_riddle__(dictionary_path)\n",
    "        return\n",
    "\n",
    "    def alphabet(self,x: Union[str,int])->Union[int,str]:\n",
    "        if type(x) == str:\n",
    "            return ord(x) - ord('A')\n",
    "        elif type(x) == int:\n",
    "            return chr(x+ord('A'))\n",
    "        else:\n",
    "            return None\n",
    "\n",
    "    def guess(self, guess: str)-> None:\n",
    "        guess = guess.upper()\n",
    "        self.guess_number += 1\n",
    "        \n",
    "        if self.guess_number >= self.num_tries:\n",
    "            print(colored(\"GAME OVER\",\"red\"))\n",
    "            return\n",
    "\n",
    "        if guess.upper() not in self.dictionary:\n",
    "            print(\"Invalid word\")\n",
    "            self.guess_number -= 1\n",
    "            return\n",
    "\n",
    "        print(self.guess_number + 1,\":\", end=\" \")\n",
    "        response = []\n",
    "        board_entry = []\n",
    "        for index, ch in enumerate(guess):\n",
    "            # green\n",
    "            if ch == self.wordle[index]:\n",
    "                board_entry.append(colored(\" \"+ch+\" \",'grey',\"on_green\"))\n",
    "                response.append('G')\n",
    "            \n",
    "            # yellow\n",
    "            elif ch in ''.join(self.wordle):\n",
    "                board_entry.append(colored(\" \"+ch+\" \",'grey','on_yellow'))\n",
    "                response.append('Y')\n",
    "            else:\n",
    "                board_entry.append(\" \"+ch+\" \")\n",
    "                response.append('B')\n",
    "\n",
    "        self.board[self.guess_number] = board_entry\n",
    "        [print(x,end=\"\") for x in board_entry];\n",
    "        print()\n",
    "        return response\n",
    "    \n",
    "    def render(self):\n",
    "        print('wordle:', ''.join(self.wordle))\n",
    "        print('board:')\n",
    "        for arr in self.board:\n",
    "            for t in arr:\n",
    "                print(t,end=\"\")\n",
    "            print()\n"
   ]
  },
  {
   "cell_type": "code",
   "execution_count": 7,
   "metadata": {},
   "outputs": [
    {
     "ename": "AttributeError",
     "evalue": "'Wordle' object has no attribute 'wordle'",
     "output_type": "error",
     "traceback": [
      "\u001b[0;31m---------------------------------------------------------------------------\u001b[0m",
      "\u001b[0;31mAttributeError\u001b[0m                            Traceback (most recent call last)",
      "\u001b[0;32m<ipython-input-7-71399346f556>\u001b[0m in \u001b[0;36m<module>\u001b[0;34m\u001b[0m\n\u001b[1;32m      1\u001b[0m \u001b[0mg\u001b[0m \u001b[0;34m=\u001b[0m \u001b[0mWordle\u001b[0m\u001b[0;34m(\u001b[0m\u001b[0;34m)\u001b[0m\u001b[0;34m\u001b[0m\u001b[0;34m\u001b[0m\u001b[0m\n\u001b[0;32m----> 2\u001b[0;31m \u001b[0mg\u001b[0m\u001b[0;34m.\u001b[0m\u001b[0mrender\u001b[0m\u001b[0;34m(\u001b[0m\u001b[0;34m)\u001b[0m\u001b[0;34m\u001b[0m\u001b[0;34m\u001b[0m\u001b[0m\n\u001b[0m",
      "\u001b[0;32m<ipython-input-5-795a1f61bfcc>\u001b[0m in \u001b[0;36mrender\u001b[0;34m(self)\u001b[0m\n\u001b[1;32m     71\u001b[0m \u001b[0;34m\u001b[0m\u001b[0m\n\u001b[1;32m     72\u001b[0m     \u001b[0;32mdef\u001b[0m \u001b[0mrender\u001b[0m\u001b[0;34m(\u001b[0m\u001b[0mself\u001b[0m\u001b[0;34m)\u001b[0m\u001b[0;34m:\u001b[0m\u001b[0;34m\u001b[0m\u001b[0;34m\u001b[0m\u001b[0m\n\u001b[0;32m---> 73\u001b[0;31m         \u001b[0mprint\u001b[0m\u001b[0;34m(\u001b[0m\u001b[0;34m'wordle:'\u001b[0m\u001b[0;34m,\u001b[0m \u001b[0;34m''\u001b[0m\u001b[0;34m.\u001b[0m\u001b[0mjoin\u001b[0m\u001b[0;34m(\u001b[0m\u001b[0mself\u001b[0m\u001b[0;34m.\u001b[0m\u001b[0mwordle\u001b[0m\u001b[0;34m)\u001b[0m\u001b[0;34m)\u001b[0m\u001b[0;34m\u001b[0m\u001b[0;34m\u001b[0m\u001b[0m\n\u001b[0m\u001b[1;32m     74\u001b[0m         \u001b[0mprint\u001b[0m\u001b[0;34m(\u001b[0m\u001b[0;34m'board:'\u001b[0m\u001b[0;34m)\u001b[0m\u001b[0;34m\u001b[0m\u001b[0;34m\u001b[0m\u001b[0m\n\u001b[1;32m     75\u001b[0m         \u001b[0;32mfor\u001b[0m \u001b[0marr\u001b[0m \u001b[0;32min\u001b[0m \u001b[0mself\u001b[0m\u001b[0;34m.\u001b[0m\u001b[0mboard\u001b[0m\u001b[0;34m:\u001b[0m\u001b[0;34m\u001b[0m\u001b[0;34m\u001b[0m\u001b[0m\n",
      "\u001b[0;31mAttributeError\u001b[0m: 'Wordle' object has no attribute 'wordle'"
     ]
    }
   ],
   "source": [
    "g = Wordle()\n",
    "g.render()"
   ]
  },
  {
   "cell_type": "code",
   "execution_count": null,
   "metadata": {},
   "outputs": [],
   "source": []
  }
 ],
 "metadata": {
  "interpreter": {
   "hash": "b0fa6594d8f4cbf19f97940f81e996739fb7646882a419484c72d19e05852a7e"
  },
  "kernelspec": {
   "display_name": "Python 3.9.7 64-bit",
   "language": "python",
   "name": "python3"
  },
  "language_info": {
   "codemirror_mode": {
    "name": "ipython",
    "version": 3
   },
   "file_extension": ".py",
   "mimetype": "text/x-python",
   "name": "python",
   "nbconvert_exporter": "python",
   "pygments_lexer": "ipython3",
   "version": "3.9.6"
  },
  "orig_nbformat": 4
 },
 "nbformat": 4,
 "nbformat_minor": 2
}
