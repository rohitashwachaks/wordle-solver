{
 "cells": [
  {
   "cell_type": "markdown",
   "metadata": {},
   "source": [
    "# Help you solve your Wordle"
   ]
  },
  {
   "cell_type": "code",
   "execution_count": 1,
   "metadata": {},
   "outputs": [],
   "source": [
    "import player\n",
    "\n",
    "bot = player.Player()"
   ]
  },
  {
   "cell_type": "code",
   "execution_count": 2,
   "metadata": {},
   "outputs": [
    {
     "name": "stdout",
     "output_type": "stream",
     "text": [
      "       information   word\n",
      "0         1.971751  SANES\n",
      "1         1.967642  SORES\n",
      "2         1.945462  SALES\n",
      "3         1.939051  SERES\n",
      "4         1.935280  CARES\n",
      "...            ...    ...\n",
      "15913     0.576063  OXBOW\n",
      "15914     0.570163  EWHOW\n",
      "15915     0.548294  ZMUDZ\n",
      "15916     0.543136  ENZYM\n",
      "15917     0.468755  OGHUZ\n",
      "\n",
      "[15918 rows x 2 columns]\n",
      "information gain: 1.972\n",
      "['B', 'B', 'B', 'B', 'B']\n",
      "COOLY\n",
      "['B', 'B', 'B', 'G', 'B']\n",
      "TRILL\n"
     ]
    },
    {
     "name": "stderr",
     "output_type": "stream",
     "text": [
      "/Users/rchaks/Code/GitHub/wordle-solver/player.py:71: FutureWarning: The default dtype for empty Series will be 'object' instead of 'float64' in a future version. Specify a dtype explicitly to silence this warning.\n",
      "  information_df = pd.DataFrame(self.vocab.apply(lambda x: ([information[x.name][i] for i in x])).sum(axis=1), columns= ['information'])\n"
     ]
    }
   ],
   "source": [
    "bot.guess()\n",
    "bot.verbose = False\n",
    "for i in range(6):\n",
    "    board_response = list(input(\"Board's response: { 'G': Green, 'Y': Yellow, 'B': Black\").upper())\n",
    "    print(board_response)\n",
    "    bot.board_response = board_response\n",
    "    try:\n",
    "        print(bot.guess())\n",
    "    except ValueError:\n",
    "        print('word Does not exist')"
   ]
  },
  {
   "cell_type": "code",
   "execution_count": null,
   "metadata": {},
   "outputs": [],
   "source": []
  }
 ],
 "metadata": {
  "interpreter": {
   "hash": "440674afb6926377cef3ad3b679f85e69c4e71f060a2a02d610976c1f786c618"
  },
  "kernelspec": {
   "display_name": "Python 3.9.6 ('sta380')",
   "language": "python",
   "name": "python3"
  },
  "language_info": {
   "codemirror_mode": {
    "name": "ipython",
    "version": 3
   },
   "file_extension": ".py",
   "mimetype": "text/x-python",
   "name": "python",
   "nbconvert_exporter": "python",
   "pygments_lexer": "ipython3",
   "version": "3.9.6"
  },
  "orig_nbformat": 4
 },
 "nbformat": 4,
 "nbformat_minor": 2
}
